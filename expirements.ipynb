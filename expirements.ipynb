{
 "cells": [
  {
   "cell_type": "markdown",
   "metadata": {},
   "source": [
    "# Hiệu suất"
   ]
  },
  {
   "cell_type": "code",
   "execution_count": 1,
   "metadata": {},
   "outputs": [
    {
     "name": "stdout",
     "output_type": "stream",
     "text": [
      "Thời gian chuyển đổi từ float sang decimal: 0.004908214992610738 giây\n",
      "Thời gian thực hiện các phép toán: 0.02081312600057572 giây\n",
      "Thời gian thực hiện tổng: 0.0013133930042386055 giây\n",
      "Thời gian thực hiện giá trị nhỏ nhất: 0.004665111991926096 giây\n",
      "Thời gian thực hiện giá trị lớn nhất: 0.004413478003698401 giây\n"
     ]
    }
   ],
   "source": [
    "import cudf\n",
    "import numpy as np\n",
    "from timeit import default_timer as timer\n",
    "\n",
    "# Tạo DataFrame với dữ liệu số thực\n",
    "n = 10_000_000  # Giả sử chúng ta có mười triệu bản ghi\n",
    "gpu_df = cudf.DataFrame({'float_col': np.random.rand(n)})\n",
    "\n",
    "# Chuyển đổi từ số thực sang decimal\n",
    "start_time = timer()\n",
    "gpu_df['decimal_col'] = gpu_df['float_col'].astype('float64').astype(cudf.Decimal128Dtype(precision=28, scale=28))\n",
    "end_time = timer()\n",
    "print(f\"Thời gian chuyển đổi từ float sang decimal: {end_time - start_time} giây\")\n",
    "\n",
    "# Thực hiện các phép toán toán học cơ bản\n",
    "start_time = timer()\n",
    "gpu_df['sum'] = gpu_df['decimal_col'] + gpu_df['decimal_col']\n",
    "gpu_df['diff'] = gpu_df['decimal_col'] - gpu_df['decimal_col']\n",
    "gpu_df['product'] = gpu_df['decimal_col'] * gpu_df['decimal_col']\n",
    "gpu_df['quotient'] = gpu_df['decimal_col'] / gpu_df['decimal_col']\n",
    "end_time = timer()\n",
    "print(f\"Thời gian thực hiện các phép toán: {end_time - start_time} giây\")\n",
    "\n",
    "# Thao tác tổng hợp\n",
    "# Đánh giá hiệu suất của việc tính tổng\n",
    "start_sum = timer()\n",
    "total_sum = gpu_df['decimal_col'].sum()\n",
    "end_sum = timer()\n",
    "\n",
    "# Đánh giá hiệu suất của việc tính trung bình\n",
    "start_mean = timer()\n",
    "mean_value = gpu_df['decimal_col'].sum()/n\n",
    "end_mean = timer()\n",
    "\n",
    "# Đánh giá hiệu suất của việc tìm giá trị nhỏ nhất\n",
    "start_min = timer()\n",
    "min_value = gpu_df['decimal_col'].min()\n",
    "end_min = timer()\n",
    "\n",
    "# Đánh giá hiệu suất của việc tìm giá trị lớn nhất\n",
    "start_max = timer()\n",
    "max_value = gpu_df['decimal_col'].max()\n",
    "end_max = timer()\n",
    "\n",
    "# In kết quả và thời gian thực hiện\n",
    "print(f'Thời gian thực hiện tổng: {end_sum - start_sum} giây')\n",
    "# print(f'Thời gian thực hiện trung bình: {end_mean - start_mean} giây')\n",
    "print(f'Thời gian thực hiện giá trị nhỏ nhất: {end_min - start_min} giây')\n",
    "print(f'Thời gian thực hiện giá trị lớn nhất: {end_max - start_max} giây')\n"
   ]
  },
  {
   "cell_type": "code",
   "execution_count": 2,
   "metadata": {},
   "outputs": [
    {
     "name": "stdout",
     "output_type": "stream",
     "text": [
      "Thời gian chuyển đổi từ float sang decimal: 4.11682147999818 giây\n",
      "Thời gian thực hiện các phép toán: 4.799466908996692 giây\n",
      "Thời gian thực hiện tổng: 0.6920579130091937 giây\n",
      "Thời gian thực hiện trung bình: 0.7131467919971328 giây\n",
      "Thời gian thực hiện giá trị nhỏ nhất: 0.3493105910019949 giây\n",
      "Thời gian thực hiện giá trị lớn nhất: 0.4371092170040356 giây\n"
     ]
    }
   ],
   "source": [
    "import pandas as pd\n",
    "import numpy as np\n",
    "from timeit import default_timer as timer\n",
    "from decimal import *\n",
    "# Tạo DataFrame với dữ liệu số thực\n",
    "n = 10_000_000  # Giả sử chúng ta có mười triệu bản ghi\n",
    "df = pd.DataFrame({'float_col': np.random.rand(n)})\n",
    "\n",
    "# Chuyển đổi từ số thực sang decimal\n",
    "start_time = timer()\n",
    "df['decimal_col'] = df['float_col'].apply(lambda x: Decimal(x))\n",
    "end_time = timer()\n",
    "print(f\"Thời gian chuyển đổi từ float sang decimal: {end_time - start_time} giây\")\n",
    "\n",
    "# Thực hiện các phép toán toán học cơ bản\n",
    "start_time = timer()\n",
    "df['sum'] = df['decimal_col'] + df['decimal_col']\n",
    "df['diff'] = df['decimal_col'] - df['decimal_col']\n",
    "df['product'] = df['decimal_col'] * df['decimal_col']\n",
    "df['quotient'] = df['decimal_col'] / df['decimal_col']\n",
    "end_time = timer()\n",
    "print(f\"Thời gian thực hiện các phép toán: {end_time - start_time} giây\")\n",
    "\n",
    "start_sum = timer()\n",
    "total_sum = df['decimal_col'].sum()\n",
    "end_sum = timer()\n",
    "\n",
    "# Đánh giá hiệu suất của việc tính trung bình\n",
    "start_mean = timer()\n",
    "mean_value = df['decimal_col'].mean()\n",
    "end_mean = timer()\n",
    "\n",
    "# Đánh giá hiệu suất của việc tìm giá trị nhỏ nhất\n",
    "start_min = timer()\n",
    "min_value = df['decimal_col'].min()\n",
    "end_min = timer()\n",
    "\n",
    "# Đánh giá hiệu suất của việc tìm giá trị lớn nhất\n",
    "start_max = timer()\n",
    "max_value = df['decimal_col'].max()\n",
    "end_max = timer()\n",
    "\n",
    "# In kết quả và thời gian thực hiện\n",
    "print(f'Thời gian thực hiện tổng: {end_sum - start_sum} giây')\n",
    "print(f'Thời gian thực hiện trung bình: {end_mean - start_mean} giây')\n",
    "print(f'Thời gian thực hiện giá trị nhỏ nhất: {end_min - start_min} giây')\n",
    "print(f'Thời gian thực hiện giá trị lớn nhất: {end_max - start_max} giây')"
   ]
  },
  {
   "cell_type": "markdown",
   "metadata": {},
   "source": [
    "# Độ chính xác"
   ]
  },
  {
   "cell_type": "code",
   "execution_count": 3,
   "metadata": {},
   "outputs": [
    {
     "name": "stdout",
     "output_type": "stream",
     "text": [
      "Kỳ vọng lý thuyết của tổng: 1.11111111111111111111111111\n"
     ]
    }
   ],
   "source": [
    "import mpmath\n",
    "mpmath.mp.dps = 50  # Đặt độ chính xác số thập phân lên đến 50 chữ số\n",
    "\n",
    "# Ví dụ các số thập phân để cộng\n",
    "num1 = mpmath.mpf('0.123456789123456789123456789')\n",
    "num2 = mpmath.mpf('0.987654321987654321987654321')\n",
    "\n",
    "# Tính toán kỳ vọng lý thuyết\n",
    "expected_sum = num1 + num2\n",
    "\n",
    "print(f\"Kỳ vọng lý thuyết của tổng: {expected_sum}\")\n"
   ]
  },
  {
   "cell_type": "code",
   "execution_count": 4,
   "metadata": {},
   "outputs": [
    {
     "name": "stdout",
     "output_type": "stream",
     "text": [
      "Kết quả từ GPU: 0    1.1111111111111111111111111100\n",
      "Name: sum, dtype: decimal128\n",
      "Sai khác: 0    0E-28\n",
      "Name: difference, dtype: decimal128\n"
     ]
    }
   ],
   "source": [
    "import cudf\n",
    "\n",
    "# Tạo DataFrame\n",
    "df = cudf.DataFrame({'num1': ['0.123456789123456789123456789'], \n",
    "                     'num2': ['0.987654321987654321987654321'], \n",
    "                     'expected_sum': [str(expected_sum)]}, dtype=cudf.Decimal128Dtype(28, 28))\n",
    "df['sum'] = df['num1'] + df['num2']\n",
    "\n",
    "# Lấy kết quả từ GPU\n",
    "df['difference'] = df['sum'] - df['expected_sum']\n",
    "\n",
    "# So sánh kết quả GPU với kỳ vọng lý thuyết\n",
    "print(f\"Kết quả từ GPU: {df['sum']}\")\n",
    "print(f\"Sai khác: {df['difference']}\")\n"
   ]
  },
  {
   "cell_type": "code",
   "execution_count": 5,
   "metadata": {},
   "outputs": [
    {
     "name": "stdout",
     "output_type": "stream",
     "text": [
      "Kết quả từ CPU: 1.111111111111111132698781034\n",
      "Sai khác: 2.1587669924E-17\n"
     ]
    }
   ],
   "source": [
    "import pandas as pd\n",
    "\n",
    "# Lấy kết quả từ CPU\n",
    "cpu_sum = Decimal(0.123456789123456789123456789) + Decimal(0.987654321987654321987654321)\n",
    "\n",
    "# So sánh kết quả CPU với kỳ vọng lý thuyết\n",
    "difference = cpu_sum - Decimal(str(expected_sum))\n",
    "print(f\"Kết quả từ CPU: {cpu_sum}\")\n",
    "print(f\"Sai khác: {difference}\")"
   ]
  },
  {
   "cell_type": "markdown",
   "metadata": {},
   "source": [
    "# Xác định mức độ sai số làm tròn"
   ]
  },
  {
   "cell_type": "code",
   "execution_count": 6,
   "metadata": {},
   "outputs": [
    {
     "name": "stdout",
     "output_type": "stream",
     "text": [
      "Kết quả kỳ vọng lý thuyết: 308.64\n"
     ]
    }
   ],
   "source": [
    "import mpmath\n",
    "\n",
    "# Đặt độ chính xác cao\n",
    "mpmath.mp.dps = 50\n",
    "\n",
    "# Tính kết quả kỳ vọng lý thuyết\n",
    "expected_result = mpmath.mpf('123.456') * mpmath.mpf('2.5')\n",
    "print(f\"Kết quả kỳ vọng lý thuyết: {expected_result}\")"
   ]
  },
  {
   "cell_type": "code",
   "execution_count": 10,
   "metadata": {},
   "outputs": [
    {
     "name": "stdout",
     "output_type": "stream",
     "text": [
      "  decimal32     decimal64              decimal128 mult_decimal32  \\\n",
      "0  123.4560  123.45600000  123.456000000000000000      308.64000   \n",
      "\n",
      "  mult_decimal64       mult_decimal128  \n",
      "0  308.640000000  308.6400000000000000  \n"
     ]
    }
   ],
   "source": [
    "import cudf\n",
    "from cudf.core.dtypes import Decimal32Dtype, Decimal64Dtype, Decimal128Dtype\n",
    "\n",
    "# Tạo DataFrame với các kiểu decimal khác nhau\n",
    "df = cudf.DataFrame({\n",
    "    'decimal32': cudf.Series([123.456]).astype(Decimal32Dtype(precision=9, scale=4)),\n",
    "    'decimal64': cudf.Series([123.456]).astype(Decimal64Dtype(precision=18, scale=8)),\n",
    "    'decimal128': cudf.Series([123.456]).astype(Decimal128Dtype(precision=38, scale=18))\n",
    "})\n",
    "\n",
    "# Thực hiện phép nhân với một số thực\n",
    "df['mult_decimal32'] = df['decimal32'] * Decimal(2.5)\n",
    "df['mult_decimal64'] = df['decimal64'] * Decimal(2.5)\n",
    "df['mult_decimal128'] = df['decimal128'] * Decimal(2.5)\n",
    "\n",
    "print(df.head())\n"
   ]
  },
  {
   "cell_type": "code",
   "execution_count": 11,
   "metadata": {},
   "outputs": [
    {
     "name": "stdout",
     "output_type": "stream",
     "text": [
      "308.64\n",
      "Kết quả từ decimal32: 308.64000, Sai số: 0.00000\n",
      "Kết quả từ decimal64: 308.640000000, Sai số: 0E-9\n",
      "Kết quả từ decimal128: 308.6400000000000000, Sai số: 0E-16\n"
     ]
    }
   ],
   "source": [
    "# Chuyển đổi kết quả cuDF sang kiểu decimal để so sánh\n",
    "gpu_results = {\n",
    "    'decimal32': Decimal(df['mult_decimal32'][0]),\n",
    "    'decimal64': Decimal(df['mult_decimal64'][0]),\n",
    "    'decimal128': Decimal(df['mult_decimal128'][0]),\n",
    "    'expected': Decimal(str(expected_result))\n",
    "}\n",
    "\n",
    "print(gpu_results['expected'])\n",
    "\n",
    "# In kết quả và so sánh sai số\n",
    "for dtype in ['decimal32', 'decimal64', 'decimal128']:\n",
    "    error = abs(gpu_results[dtype] - gpu_results['expected'])\n",
    "    print(f\"Kết quả từ {dtype}: {gpu_results[dtype]}, Sai số: {error}\")\n"
   ]
  },
  {
   "cell_type": "code",
   "execution_count": 12,
   "metadata": {},
   "outputs": [
    {
     "name": "stdout",
     "output_type": "stream",
     "text": [
      "Kết quả từ decimal: 308.6400000000000076738615462, Sai số: 7.6738615462E-15\n"
     ]
    }
   ],
   "source": [
    "d = Decimal(123.456) * Decimal(2.5)\n",
    "error = abs(Decimal(d) - Decimal(str(expected_result)))\n",
    "print(f\"Kết quả từ decimal: {d}, Sai số: {error}\")"
   ]
  }
 ],
 "metadata": {
  "kernelspec": {
   "display_name": "rapids",
   "language": "python",
   "name": "python3"
  },
  "language_info": {
   "codemirror_mode": {
    "name": "ipython",
    "version": 3
   },
   "file_extension": ".py",
   "mimetype": "text/x-python",
   "name": "python",
   "nbconvert_exporter": "python",
   "pygments_lexer": "ipython3",
   "version": "3.10.11"
  }
 },
 "nbformat": 4,
 "nbformat_minor": 2
}
